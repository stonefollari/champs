{
 "cells": [
  {
   "cell_type": "markdown",
   "metadata": {},
   "source": [
    "# CHAMPS Dataset Scalar Coupling"
   ]
  },
  {
   "cell_type": "markdown",
   "metadata": {},
   "source": [
    "- Michael Follari\n",
    "- [Predicting Molecular Properties](https://www.kaggle.com/c/champs-scalar-coupling)\n",
    "- UNCG Physics 2020\n",
    "- Dr. Ajay Covell"
   ]
  },
  {
   "cell_type": "code",
   "execution_count": 17,
   "metadata": {},
   "outputs": [],
   "source": [
    "import warnings\n",
    "warnings.simplefilter(action='ignore', category=FutureWarning)\n",
    "\n",
    "import numpy as np\n",
    "import pandas as pd\n",
    "import matplotlib.pyplot as plt\n",
    "\n",
    "from sklearn import linear_model\n",
    "from sklearn.ensemble import RandomForestRegressor\n",
    "from sklearn.datasets import make_regression\n",
    "from sklearn.model_selection import train_test_split"
   ]
  },
  {
   "cell_type": "markdown",
   "metadata": {},
   "source": [
    "More plot styling can be found [here.](https://matplotlib.org/tutorials/introductory/customizing.html)"
   ]
  },
  {
   "cell_type": "code",
   "execution_count": 2,
   "metadata": {},
   "outputs": [],
   "source": [
    "plt.style.use('seaborn')\n",
    "plt.rcParams[\"figure.figsize\"] = [16,9]\n",
    "plt.rcParams.update({'font.size': 16})"
   ]
  },
  {
   "cell_type": "markdown",
   "metadata": {},
   "source": [
    "# Data Sets\n",
    "* structures.csv - `structures_df` - Contains the xyz coordinates of each atom within each molecule\n",
    "* train.csv - `train_df` - Contains the type and scalar_coupling_constant between every atoms pair within each molecule.\n",
    "\n",
    "### The following code imports both the above datasets, merges, and adds additional columns.\n",
    "* Only added column is currently displacement between the two atoms in the bond."
   ]
  },
  {
   "cell_type": "code",
   "execution_count": 3,
   "metadata": {},
   "outputs": [],
   "source": [
    "structure_path = 'D:\\data\\champs\\zip\\structures.zip'\n",
    "train_path = 'D:\\data\\champs\\zip\\\\train.zip'\n",
    "test_path = 'D:\\data\\champs\\zip\\\\test.zip'\n",
    "train_bond_path = 'D:\\data\\champs\\zip\\\\train_bond.gz'\n",
    "test_bond_path = 'D:\\data\\champs\\zip\\\\test_bond.gz'"
   ]
  },
  {
   "cell_type": "code",
   "execution_count": 4,
   "metadata": {},
   "outputs": [],
   "source": [
    "# Load in Structure and Train CSV files, merge, calculate values, and save to Molecules CSV\n",
    "def merge_struct_dataset(path_struct, path_train, path_merged):\n",
    "    \n",
    "    # load in struct and train datasets\n",
    "    structures_df = pd.read_csv(path_struct)\n",
    "    train_df = pd.read_csv(path_train)\n",
    "\n",
    "    # Merge structure data onto train_df for each atom (atom_index_0 and atom_index_1). Hold in mol_df\n",
    "    mol_df = train_df.merge(structures_df, left_on=['molecule_name','atom_index_0'], right_on=['molecule_name','atom_index'])\n",
    "    mol_df = mol_df.merge(structures_df, left_on=['molecule_name','atom_index_1'], right_on=['molecule_name','atom_index'])\n",
    "\n",
    "    # drop extra columns from merge and rename\n",
    "    mol_df.drop(['atom_index_x','atom_index_y'], axis=1, inplace=True)\n",
    "    mol_df.rename(columns={'atom_x':'atom_0','atom_y':'atom_1','x_x':'x_0','y_x':'y_0','z_x':'z_0','x_y':'x_1','y_y':'y_1','z_y':'z_1'}, inplace=True)\n",
    "    \n",
    "    # Append new columns with calculated values\n",
    "    mol_df = append_molecule_calculations(mol_df)\n",
    "    \n",
    "    # Save to CSV\n",
    "    mol_df.to_csv(path_merged, compression=\"gzip\")\n",
    "    \n",
    "# adds new columns with calculated values to molecule df\n",
    "def append_molecule_calculations(mol_df):\n",
    "    mol_df = calculate_molecule_displacement(mol_df)\n",
    "    return mol_df\n",
    "    \n",
    "# calculates the displacement for each atom interaction \n",
    "def calculate_molecule_displacement(mol_df):\n",
    "    mol_df['displacement'] = mol_df.apply(lambda row: calc_disp(row), axis=1)\n",
    "    return mol_df\n",
    "    \n",
    "# calculcates displacement on a passed row\n",
    "def calc_disp(row):\n",
    "    return np.linalg.norm(np.array([row['x_1']-row['x_0'],row['y_1']-row['y_0'],row['z_1']-row['z_0']]))"
   ]
  },
  {
   "cell_type": "markdown",
   "metadata": {},
   "source": [
    "### Merge strucutre data with train and test data sets.\n",
    "* Only need to do once to generaete and save to dataframes as CSV files, then load as normla CSV"
   ]
  },
  {
   "cell_type": "code",
   "execution_count": 5,
   "metadata": {},
   "outputs": [],
   "source": [
    "# merge_struct_dataset(structure_path, train_path, train_bond_path)\n",
    "# merge_struct_dataset(structure_path, test_path, test_bond_path)"
   ]
  },
  {
   "cell_type": "markdown",
   "metadata": {},
   "source": [
    "#### Load merged datasets"
   ]
  },
  {
   "cell_type": "code",
   "execution_count": 6,
   "metadata": {},
   "outputs": [],
   "source": [
    "bond_df = pd.read_csv( train_bond_path )"
   ]
  },
  {
   "cell_type": "code",
   "execution_count": null,
   "metadata": {},
   "outputs": [],
   "source": [
    "# bond_df"
   ]
  },
  {
   "cell_type": "code",
   "execution_count": 8,
   "metadata": {},
   "outputs": [],
   "source": [
    "# test_bond_df = pd.read_csv( test_bond_path )\n",
    "# test_bond_df.head()"
   ]
  },
  {
   "cell_type": "code",
   "execution_count": 10,
   "metadata": {},
   "outputs": [],
   "source": [
    "# test_df = pd.read_csv( test_path )\n",
    "# struct_df = pd.read_csv( structure_path )"
   ]
  },
  {
   "cell_type": "markdown",
   "metadata": {},
   "source": [
    "# Exploration\n",
    "* Simple Regression of Scalar Coupling & Atom Displacement."
   ]
  },
  {
   "cell_type": "code",
   "execution_count": 121,
   "metadata": {},
   "outputs": [],
   "source": [
    "def score_type( y_test, y_calc ):\n",
    "    y = list(zip(y_test, y_calc))\n",
    "    error = sum( [abs(i - j) for i, j in y] )\n",
    "    return np.log10( error / len(y) )\n",
    "\n",
    "def score_total(sum_score, num_type):\n",
    "    return sum_score / num_type\n",
    "\n",
    "def score(types_data):\n",
    "    \n",
    "    total_score = 0\n",
    "    for typ in types_data:\n",
    "        total_score += score_type(typ)\n",
    "    return total_score / len(types_data)"
   ]
  },
  {
   "cell_type": "markdown",
   "metadata": {},
   "source": [
    "### The different kinds of bonds present in the data"
   ]
  },
  {
   "cell_type": "code",
   "execution_count": 12,
   "metadata": {},
   "outputs": [
    {
     "name": "stdout",
     "output_type": "stream",
     "text": [
      "['1JHC' '2JHH' '1JHN' '2JHN' '2JHC' '3JHH' '3JHC' '3JHN']\n"
     ]
    }
   ],
   "source": [
    "bond_types = bond_df.type.unique()\n",
    "print(bond_types)"
   ]
  },
  {
   "cell_type": "markdown",
   "metadata": {},
   "source": [
    "#### Fetching and train/test splitting of data for regressions"
   ]
  },
  {
   "cell_type": "code",
   "execution_count": 100,
   "metadata": {},
   "outputs": [],
   "source": [
    "def get_xy(df, bond_type):\n",
    "    df = df[ df.type == bond_type].sort_values(by=['displacement'])\n",
    "    # Split and return into x and y arrays\n",
    "    x = df['displacement'].values\n",
    "    y = df['scalar_coupling_constant'].values\n",
    "    return [x,y]\n",
    "\n",
    "def get_xy_split(df, bond_type):\n",
    "    x, y = get_xy(df, bond_type)\n",
    "    return train_test_split( x, y, random_state=42)"
   ]
  },
  {
   "cell_type": "markdown",
   "metadata": {},
   "source": [
    "#### Plotting data points and models"
   ]
  },
  {
   "cell_type": "code",
   "execution_count": 106,
   "metadata": {},
   "outputs": [],
   "source": [
    "def plot_model(x_test, y_test, y_regs, title, x_bound=[None,None], y_bound=[None,None]):\n",
    "    \n",
    "    xmin = x_test.min() if x_bound[0] is None else x_bound[0]\n",
    "    xmax = x_test.max() if x_bound[1] is None else x_bound[1]\n",
    "    ymin = y_test.min() if y_bound[0] is None else y_bound[0]\n",
    "    ymax = y_test.max() if y_bound[1] is None else y_bound[1]\n",
    "    \n",
    "    plt.scatter(x_test,y_test, c='b')\n",
    "    \n",
    "    for y_reg in y_regs:\n",
    "        plt.plot(x_test, y_reg, linewidth=3, linestyle='solid')\n",
    "    \n",
    "    plt.xlim([xmin * 0.99,xmax * 1.01])\n",
    "    plt.ylim([ymin * 0.99,ymax* 1.01])\n",
    "    plt.title(title, size=22)\n",
    "    plt.xlabel('Displacement', size=22)\n",
    "    plt.ylabel('Scalar Coupling Constant', size=22)\n",
    "    plt.show()"
   ]
  },
  {
   "cell_type": "markdown",
   "metadata": {},
   "source": [
    "# Linear Regression\n",
    "- [scikit Learn Linear Regression](https://scikit-learn.org/stable/modules/linear_model.html)"
   ]
  },
  {
   "cell_type": "code",
   "execution_count": 114,
   "metadata": {},
   "outputs": [],
   "source": [
    "def linear_regression(x_train, y_train, x_test):\n",
    "    # Train linear regression model\n",
    "    linear_reg = train_linear_regression(x_train, y_train)\n",
    "    \n",
    "    # Use linear regression to generate y value\n",
    "    return np.array(line_data_points(x_test,linear_reg.coef_, linear_reg.intercept_)).T[0]\n",
    "    \n",
    "def train_linear_regression(x,y):\n",
    "    # Linear Regression fit\n",
    "    reg = linear_model.LinearRegression()\n",
    "    reg.fit( x.reshape(-1,1), y )\n",
    "    return reg\n",
    "\n",
    "def line_data_points(x_array, coef, intercept):\n",
    "    return [line_func(x, coef, intercept) for x in x_array]\n",
    "\n",
    "def line_func(x, coef, intercept):\n",
    "    return x*coef + intercept"
   ]
  },
  {
   "cell_type": "markdown",
   "metadata": {},
   "source": [
    "# Random Forest Regression\n",
    "* [scikit Learn Random Forest Regression](https://scikit-learn.org/stable/modules/generated/sklearn.ensemble.RandomForestRegressor.html)"
   ]
  },
  {
   "cell_type": "code",
   "execution_count": 109,
   "metadata": {},
   "outputs": [],
   "source": [
    "def random_forest(x_train, y_train, x_test):\n",
    "    # Train Random Forest regression model\n",
    "    random_forest_reg = train_rand_forest(x_train, y_train)\n",
    "    \n",
    "    # Use Random Forest regression to generate y values\n",
    "    return random_forest_reg.predict(x_test.reshape(-1,1))\n",
    "\n",
    "def train_rand_forest(x, y):\n",
    "    # Train Random Forest\n",
    "    reg = RandomForestRegressor(max_depth=2, random_state=0)\n",
    "    reg.fit(x.reshape(-1,1), y)\n",
    "    return reg"
   ]
  },
  {
   "cell_type": "markdown",
   "metadata": {},
   "source": [
    "### Trains models for data"
   ]
  },
  {
   "cell_type": "code",
   "execution_count": 119,
   "metadata": {},
   "outputs": [],
   "source": [
    "def evaluate_models(plot=False):\n",
    "\n",
    "    title = \"Regression of Scalar-Coupling-Constant vs. Bond Displacement : \"\n",
    "\n",
    "    sum_score = 0;\n",
    "    for bond_type in bond_types:\n",
    "\n",
    "        # Get x y test/train. Displacement and Bond strength\n",
    "        x_train, x_test, y_train, y_test = get_xy_split(bond_df, bond_type )\n",
    "        x_test.sort() # Sort training values (mostly for plotting)\n",
    "\n",
    "        # Train and predict Linear regression\n",
    "        y_linear_regression = linear_regression(x_train, y_train, x_test)\n",
    "\n",
    "        # Train and predict Random Forest\n",
    "        y_random_forest_regression = random_forest(x_train, y_train, x_test)\n",
    "\n",
    "        # Calculate score for regression on type\n",
    "        linear_score = score_type( y_test, y_linear_regression) \n",
    "        forest_score = score_type( y_test, y_random_forest_regression) \n",
    "\n",
    "        # Print result\n",
    "        print(bond_type + ' has score :     Linear: ', linear_score, '     Forest: ', forest_score)\n",
    "\n",
    "        # Plot only if desired\n",
    "        if plot:\n",
    "            y_regs = [y_linear_regression, y_random_forest_regression]\n",
    "            plot_model(x_test, y_test, y_regs, title+bond_type,[x_train.min(),x_train.max()], [y_train.min(),y_train.max()])"
   ]
  },
  {
   "cell_type": "code",
   "execution_count": 120,
   "metadata": {
    "scrolled": true
   },
   "outputs": [
    {
     "name": "stdout",
     "output_type": "stream",
     "text": [
      "1JHC has score :     Linear:  1.1931855488967258      Forest:  1.1817036573495254\n",
      "2JHH has score :     Linear:  0.4867483028763783      Forest:  0.5064864649994729\n",
      "1JHN has score :     Linear:  1.0693895782065483      Forest:  1.0797471051012908\n",
      "2JHN has score :     Linear:  0.4783139288899586      Forest:  0.49426840518159426\n",
      "2JHC has score :     Linear:  0.4691411105228811      Forest:  0.4859395946249071\n",
      "3JHH has score :     Linear:  0.4970802957301517      Forest:  0.5386676362207091\n",
      "3JHC has score :     Linear:  0.4126741785216499      Forest:  0.42200057386748496\n",
      "3JHN has score :     Linear:  0.0053978364621969765      Forest:  0.018640509332309395\n"
     ]
    }
   ],
   "source": [
    "evaluate_models()"
   ]
  },
  {
   "cell_type": "markdown",
   "metadata": {},
   "source": [
    "<br/>\n",
    "<br/>\n",
    "<br/>\n",
    "<br/>\n",
    "<br/>\n",
    "<br/>\n",
    "<br/>\n",
    "<br/>\n",
    "<br/>\n",
    "<br/>\n",
    "<br/>\n",
    "<br/>\n",
    "<br/>\n",
    "<br/>\n",
    "<br/>\n",
    "<br/>\n",
    "<br/>\n",
    "<br/>\n",
    "<br/>\n",
    "<br/>\n",
    "<br/>\n",
    "<br/>\n",
    "<br/>\n",
    "<br/>\n",
    "<br/>\n",
    "<br/>\n",
    "<br/>\n",
    "<br/>\n",
    "<br/>\n",
    "<br/>\n",
    "\n",
    "<small><small><small>This holds space so I can scroll further</small></small></small>"
   ]
  },
  {
   "cell_type": "code",
   "execution_count": null,
   "metadata": {},
   "outputs": [],
   "source": []
  }
 ],
 "metadata": {
  "kernelspec": {
   "display_name": "Python 3",
   "language": "python",
   "name": "python3"
  },
  "language_info": {
   "codemirror_mode": {
    "name": "ipython",
    "version": 3
   },
   "file_extension": ".py",
   "mimetype": "text/x-python",
   "name": "python",
   "nbconvert_exporter": "python",
   "pygments_lexer": "ipython3",
   "version": "3.7.5"
  }
 },
 "nbformat": 4,
 "nbformat_minor": 2
}
