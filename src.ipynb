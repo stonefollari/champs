{
 "cells": [
  {
   "cell_type": "markdown",
   "metadata": {},
   "source": [
    "# CHAMPS Dataset Scalar Coupling"
   ]
  },
  {
   "cell_type": "markdown",
   "metadata": {},
   "source": [
    "- Michael Follari\n",
    "- [Predicting Molecular Properties](https://www.kaggle.com/c/champs-scalar-coupling)\n",
    "- UNCG Physics 2020\n",
    "- Dr. Ajay Covell"
   ]
  },
  {
   "cell_type": "code",
   "execution_count": 1,
   "metadata": {},
   "outputs": [],
   "source": [
    "import warnings\n",
    "warnings.simplefilter(action='ignore', category=FutureWarning)\n",
    "\n",
    "import numpy as np\n",
    "import pandas as pd\n",
    "import matplotlib.pyplot as plt\n",
    "\n",
    "from sklearn import linear_model\n",
    "from sklearn.ensemble import RandomForestRegressor\n",
    "from sklearn.datasets import make_regression\n",
    "from sklearn.model_selection import train_test_split"
   ]
  },
  {
   "cell_type": "markdown",
   "metadata": {},
   "source": [
    "More plot styling can be found [here.](https://matplotlib.org/tutorials/introductory/customizing.html)"
   ]
  },
  {
   "cell_type": "code",
   "execution_count": 2,
   "metadata": {},
   "outputs": [],
   "source": [
    "plt.style.use('seaborn')\n",
    "plt.rcParams[\"figure.figsize\"] = [16,9]\n",
    "plt.rcParams.update({'font.size': 16})"
   ]
  },
  {
   "cell_type": "markdown",
   "metadata": {},
   "source": [
    "# Data Sets\n",
    "* structures.csv - `structures_df` - Contains the xyz coordinates of each atom within each molecule\n",
    "* train.csv - `train_df` - Contains the type and scalar_coupling_constant between every atoms pair within each molecule.\n",
    "\n",
    "### The following code imports both the above datasets, merges, and adds additional columns.\n",
    "* Only added column is currently displacement between the two atoms in the bond."
   ]
  },
  {
   "cell_type": "code",
   "execution_count": 3,
   "metadata": {},
   "outputs": [],
   "source": [
    "structure_path = 'D:\\data\\champs\\zip\\structures.zip'\n",
    "train_path = 'D:\\data\\champs\\zip\\\\train.zip'\n",
    "test_path = 'D:\\data\\champs\\zip\\\\test.zip'\n",
    "train_bond_path = 'D:\\data\\champs\\zip\\\\train_bond.gz'\n",
    "test_bond_path = 'D:\\data\\champs\\zip\\\\test_bond.gz'"
   ]
  },
  {
   "cell_type": "code",
   "execution_count": 4,
   "metadata": {},
   "outputs": [],
   "source": [
    "# Load in Structure and Train CSV files, merge, calculate values, and save to Molecules CSV\n",
    "def merge_struct_dataset(path_struct, path_train, path_merged):\n",
    "    \n",
    "    # load in struct and train datasets\n",
    "    structures_df = pd.read_csv(path_struct)\n",
    "    train_df = pd.read_csv(path_train)\n",
    "\n",
    "    # Merge structure data onto train_df for each atom (atom_index_0 and atom_index_1). Hold in mol_df\n",
    "    mol_df = train_df.merge(structures_df, left_on=['molecule_name','atom_index_0'], right_on=['molecule_name','atom_index'])\n",
    "    mol_df = mol_df.merge(structures_df, left_on=['molecule_name','atom_index_1'], right_on=['molecule_name','atom_index'])\n",
    "\n",
    "    # drop extra columns from merge and rename\n",
    "    mol_df.drop(['atom_index_x','atom_index_y'], axis=1, inplace=True)\n",
    "    mol_df.rename(columns={'atom_x':'atom_0','atom_y':'atom_1','x_x':'x_0','y_x':'y_0','z_x':'z_0','x_y':'x_1','y_y':'y_1','z_y':'z_1'}, inplace=True)\n",
    "    \n",
    "    # Append new columns with calculated values\n",
    "    mol_df = append_molecule_calculations(mol_df)\n",
    "    \n",
    "    # Save to CSV\n",
    "    mol_df.to_csv(path_merged, compression=\"gzip\")\n",
    "    \n",
    "# adds new columns with calculated values to molecule df\n",
    "def append_molecule_calculations(mol_df):\n",
    "    mol_df = calculate_molecule_displacement(mol_df)\n",
    "    return mol_df\n",
    "    \n",
    "# calculates the displacement for each atom interaction \n",
    "def calculate_molecule_displacement(mol_df):\n",
    "    mol_df['displacement'] = mol_df.apply(lambda row: calc_disp(row), axis=1)\n",
    "    return mol_df\n",
    "    \n",
    "# calculcates displacement on a passed row\n",
    "def calc_disp(row):\n",
    "    return np.linalg.norm(np.array([row['x_1']-row['x_0'],row['y_1']-row['y_0'],row['z_1']-row['z_0']]))"
   ]
  },
  {
   "cell_type": "markdown",
   "metadata": {},
   "source": [
    "### Merge strucutre data with train and test data sets.\n",
    "* Only need to do once to generaete and save to dataframes as CSV files, then load as normla CSV"
   ]
  },
  {
   "cell_type": "code",
   "execution_count": 5,
   "metadata": {},
   "outputs": [],
   "source": [
    "# merge_struct_dataset(structure_path, train_path, train_bond_path)\n",
    "# merge_struct_dataset(structure_path, test_path, test_bond_path)"
   ]
  },
  {
   "cell_type": "markdown",
   "metadata": {},
   "source": [
    "#### Load merged datasets"
   ]
  },
  {
   "cell_type": "code",
   "execution_count": 6,
   "metadata": {},
   "outputs": [],
   "source": [
    "bond_df = pd.read_csv( train_bond_path )"
   ]
  },
  {
   "cell_type": "code",
   "execution_count": 7,
   "metadata": {},
   "outputs": [
    {
     "data": {
      "text/html": [
       "<div>\n",
       "<style scoped>\n",
       "    .dataframe tbody tr th:only-of-type {\n",
       "        vertical-align: middle;\n",
       "    }\n",
       "\n",
       "    .dataframe tbody tr th {\n",
       "        vertical-align: top;\n",
       "    }\n",
       "\n",
       "    .dataframe thead th {\n",
       "        text-align: right;\n",
       "    }\n",
       "</style>\n",
       "<table border=\"1\" class=\"dataframe\">\n",
       "  <thead>\n",
       "    <tr style=\"text-align: right;\">\n",
       "      <th></th>\n",
       "      <th>Unnamed: 0</th>\n",
       "      <th>id</th>\n",
       "      <th>molecule_name</th>\n",
       "      <th>atom_index_0</th>\n",
       "      <th>atom_index_1</th>\n",
       "      <th>type</th>\n",
       "      <th>scalar_coupling_constant</th>\n",
       "      <th>atom_0</th>\n",
       "      <th>x_0</th>\n",
       "      <th>y_0</th>\n",
       "      <th>z_0</th>\n",
       "      <th>atom_1</th>\n",
       "      <th>x_1</th>\n",
       "      <th>y_1</th>\n",
       "      <th>z_1</th>\n",
       "      <th>displacement</th>\n",
       "    </tr>\n",
       "  </thead>\n",
       "  <tbody>\n",
       "    <tr>\n",
       "      <th>0</th>\n",
       "      <td>0</td>\n",
       "      <td>0</td>\n",
       "      <td>dsgdb9nsd_000001</td>\n",
       "      <td>1</td>\n",
       "      <td>0</td>\n",
       "      <td>1JHC</td>\n",
       "      <td>84.807600</td>\n",
       "      <td>H</td>\n",
       "      <td>0.002150</td>\n",
       "      <td>-0.006031</td>\n",
       "      <td>0.001976</td>\n",
       "      <td>C</td>\n",
       "      <td>-0.012698</td>\n",
       "      <td>1.085804</td>\n",
       "      <td>0.008001</td>\n",
       "      <td>1.091953</td>\n",
       "    </tr>\n",
       "    <tr>\n",
       "      <th>1</th>\n",
       "      <td>1</td>\n",
       "      <td>4</td>\n",
       "      <td>dsgdb9nsd_000001</td>\n",
       "      <td>2</td>\n",
       "      <td>0</td>\n",
       "      <td>1JHC</td>\n",
       "      <td>84.807400</td>\n",
       "      <td>H</td>\n",
       "      <td>1.011731</td>\n",
       "      <td>1.463751</td>\n",
       "      <td>0.000277</td>\n",
       "      <td>C</td>\n",
       "      <td>-0.012698</td>\n",
       "      <td>1.085804</td>\n",
       "      <td>0.008001</td>\n",
       "      <td>1.091952</td>\n",
       "    </tr>\n",
       "    <tr>\n",
       "      <th>2</th>\n",
       "      <td>2</td>\n",
       "      <td>7</td>\n",
       "      <td>dsgdb9nsd_000001</td>\n",
       "      <td>3</td>\n",
       "      <td>0</td>\n",
       "      <td>1JHC</td>\n",
       "      <td>84.809300</td>\n",
       "      <td>H</td>\n",
       "      <td>-0.540815</td>\n",
       "      <td>1.447527</td>\n",
       "      <td>-0.876644</td>\n",
       "      <td>C</td>\n",
       "      <td>-0.012698</td>\n",
       "      <td>1.085804</td>\n",
       "      <td>0.008001</td>\n",
       "      <td>1.091946</td>\n",
       "    </tr>\n",
       "    <tr>\n",
       "      <th>3</th>\n",
       "      <td>3</td>\n",
       "      <td>9</td>\n",
       "      <td>dsgdb9nsd_000001</td>\n",
       "      <td>4</td>\n",
       "      <td>0</td>\n",
       "      <td>1JHC</td>\n",
       "      <td>84.809500</td>\n",
       "      <td>H</td>\n",
       "      <td>-0.523814</td>\n",
       "      <td>1.437933</td>\n",
       "      <td>0.906397</td>\n",
       "      <td>C</td>\n",
       "      <td>-0.012698</td>\n",
       "      <td>1.085804</td>\n",
       "      <td>0.008001</td>\n",
       "      <td>1.091948</td>\n",
       "    </tr>\n",
       "    <tr>\n",
       "      <th>4</th>\n",
       "      <td>4</td>\n",
       "      <td>1</td>\n",
       "      <td>dsgdb9nsd_000001</td>\n",
       "      <td>1</td>\n",
       "      <td>2</td>\n",
       "      <td>2JHH</td>\n",
       "      <td>-11.257000</td>\n",
       "      <td>H</td>\n",
       "      <td>0.002150</td>\n",
       "      <td>-0.006031</td>\n",
       "      <td>0.001976</td>\n",
       "      <td>H</td>\n",
       "      <td>1.011731</td>\n",
       "      <td>1.463751</td>\n",
       "      <td>0.000277</td>\n",
       "      <td>1.783120</td>\n",
       "    </tr>\n",
       "    <tr>\n",
       "      <th>...</th>\n",
       "      <td>...</td>\n",
       "      <td>...</td>\n",
       "      <td>...</td>\n",
       "      <td>...</td>\n",
       "      <td>...</td>\n",
       "      <td>...</td>\n",
       "      <td>...</td>\n",
       "      <td>...</td>\n",
       "      <td>...</td>\n",
       "      <td>...</td>\n",
       "      <td>...</td>\n",
       "      <td>...</td>\n",
       "      <td>...</td>\n",
       "      <td>...</td>\n",
       "      <td>...</td>\n",
       "      <td>...</td>\n",
       "    </tr>\n",
       "    <tr>\n",
       "      <th>4659071</th>\n",
       "      <td>4659071</td>\n",
       "      <td>4659040</td>\n",
       "      <td>dsgdb9nsd_133884</td>\n",
       "      <td>13</td>\n",
       "      <td>17</td>\n",
       "      <td>3JHH</td>\n",
       "      <td>3.062820</td>\n",
       "      <td>H</td>\n",
       "      <td>2.582409</td>\n",
       "      <td>-1.260138</td>\n",
       "      <td>0.293499</td>\n",
       "      <td>H</td>\n",
       "      <td>1.126550</td>\n",
       "      <td>-1.348733</td>\n",
       "      <td>-1.933838</td>\n",
       "      <td>2.662406</td>\n",
       "    </tr>\n",
       "    <tr>\n",
       "      <th>4659072</th>\n",
       "      <td>4659072</td>\n",
       "      <td>4659067</td>\n",
       "      <td>dsgdb9nsd_133884</td>\n",
       "      <td>16</td>\n",
       "      <td>17</td>\n",
       "      <td>3JHH</td>\n",
       "      <td>0.789559</td>\n",
       "      <td>H</td>\n",
       "      <td>-0.084531</td>\n",
       "      <td>1.110807</td>\n",
       "      <td>-1.796741</td>\n",
       "      <td>H</td>\n",
       "      <td>1.126550</td>\n",
       "      <td>-1.348733</td>\n",
       "      <td>-1.933838</td>\n",
       "      <td>2.744968</td>\n",
       "    </tr>\n",
       "    <tr>\n",
       "      <th>4659073</th>\n",
       "      <td>4659073</td>\n",
       "      <td>4659038</td>\n",
       "      <td>dsgdb9nsd_133884</td>\n",
       "      <td>13</td>\n",
       "      <td>14</td>\n",
       "      <td>3JHH</td>\n",
       "      <td>1.005250</td>\n",
       "      <td>H</td>\n",
       "      <td>2.582409</td>\n",
       "      <td>-1.260138</td>\n",
       "      <td>0.293499</td>\n",
       "      <td>H</td>\n",
       "      <td>2.087537</td>\n",
       "      <td>1.391489</td>\n",
       "      <td>0.548687</td>\n",
       "      <td>2.709455</td>\n",
       "    </tr>\n",
       "    <tr>\n",
       "      <th>4659074</th>\n",
       "      <td>4659074</td>\n",
       "      <td>4659039</td>\n",
       "      <td>dsgdb9nsd_133884</td>\n",
       "      <td>13</td>\n",
       "      <td>15</td>\n",
       "      <td>3JHH</td>\n",
       "      <td>1.005260</td>\n",
       "      <td>H</td>\n",
       "      <td>2.582409</td>\n",
       "      <td>-1.260138</td>\n",
       "      <td>0.293499</td>\n",
       "      <td>H</td>\n",
       "      <td>1.542918</td>\n",
       "      <td>0.547487</td>\n",
       "      <td>2.023550</td>\n",
       "      <td>2.709451</td>\n",
       "    </tr>\n",
       "    <tr>\n",
       "      <th>4659075</th>\n",
       "      <td>4659075</td>\n",
       "      <td>4659049</td>\n",
       "      <td>dsgdb9nsd_133884</td>\n",
       "      <td>14</td>\n",
       "      <td>15</td>\n",
       "      <td>2JHH</td>\n",
       "      <td>-9.199110</td>\n",
       "      <td>H</td>\n",
       "      <td>2.087537</td>\n",
       "      <td>1.391489</td>\n",
       "      <td>0.548687</td>\n",
       "      <td>H</td>\n",
       "      <td>1.542918</td>\n",
       "      <td>0.547487</td>\n",
       "      <td>2.023550</td>\n",
       "      <td>1.784424</td>\n",
       "    </tr>\n",
       "  </tbody>\n",
       "</table>\n",
       "<p>4659076 rows × 16 columns</p>\n",
       "</div>"
      ],
      "text/plain": [
       "         Unnamed: 0       id     molecule_name  atom_index_0  atom_index_1  \\\n",
       "0                 0        0  dsgdb9nsd_000001             1             0   \n",
       "1                 1        4  dsgdb9nsd_000001             2             0   \n",
       "2                 2        7  dsgdb9nsd_000001             3             0   \n",
       "3                 3        9  dsgdb9nsd_000001             4             0   \n",
       "4                 4        1  dsgdb9nsd_000001             1             2   \n",
       "...             ...      ...               ...           ...           ...   \n",
       "4659071     4659071  4659040  dsgdb9nsd_133884            13            17   \n",
       "4659072     4659072  4659067  dsgdb9nsd_133884            16            17   \n",
       "4659073     4659073  4659038  dsgdb9nsd_133884            13            14   \n",
       "4659074     4659074  4659039  dsgdb9nsd_133884            13            15   \n",
       "4659075     4659075  4659049  dsgdb9nsd_133884            14            15   \n",
       "\n",
       "         type  scalar_coupling_constant atom_0       x_0       y_0       z_0  \\\n",
       "0        1JHC                 84.807600      H  0.002150 -0.006031  0.001976   \n",
       "1        1JHC                 84.807400      H  1.011731  1.463751  0.000277   \n",
       "2        1JHC                 84.809300      H -0.540815  1.447527 -0.876644   \n",
       "3        1JHC                 84.809500      H -0.523814  1.437933  0.906397   \n",
       "4        2JHH                -11.257000      H  0.002150 -0.006031  0.001976   \n",
       "...       ...                       ...    ...       ...       ...       ...   \n",
       "4659071  3JHH                  3.062820      H  2.582409 -1.260138  0.293499   \n",
       "4659072  3JHH                  0.789559      H -0.084531  1.110807 -1.796741   \n",
       "4659073  3JHH                  1.005250      H  2.582409 -1.260138  0.293499   \n",
       "4659074  3JHH                  1.005260      H  2.582409 -1.260138  0.293499   \n",
       "4659075  2JHH                 -9.199110      H  2.087537  1.391489  0.548687   \n",
       "\n",
       "        atom_1       x_1       y_1       z_1  displacement  \n",
       "0            C -0.012698  1.085804  0.008001      1.091953  \n",
       "1            C -0.012698  1.085804  0.008001      1.091952  \n",
       "2            C -0.012698  1.085804  0.008001      1.091946  \n",
       "3            C -0.012698  1.085804  0.008001      1.091948  \n",
       "4            H  1.011731  1.463751  0.000277      1.783120  \n",
       "...        ...       ...       ...       ...           ...  \n",
       "4659071      H  1.126550 -1.348733 -1.933838      2.662406  \n",
       "4659072      H  1.126550 -1.348733 -1.933838      2.744968  \n",
       "4659073      H  2.087537  1.391489  0.548687      2.709455  \n",
       "4659074      H  1.542918  0.547487  2.023550      2.709451  \n",
       "4659075      H  1.542918  0.547487  2.023550      1.784424  \n",
       "\n",
       "[4659076 rows x 16 columns]"
      ]
     },
     "execution_count": 7,
     "metadata": {},
     "output_type": "execute_result"
    }
   ],
   "source": [
    "bond_df"
   ]
  },
  {
   "cell_type": "code",
   "execution_count": 8,
   "metadata": {},
   "outputs": [],
   "source": [
    "# test_bond_df = pd.read_csv( test_bond_path )\n",
    "# test_bond_df.head()"
   ]
  },
  {
   "cell_type": "code",
   "execution_count": 9,
   "metadata": {},
   "outputs": [],
   "source": [
    "# test_df = pd.read_csv( test_path )\n",
    "# struct_df = pd.read_csv( structure_path )"
   ]
  },
  {
   "cell_type": "markdown",
   "metadata": {},
   "source": [
    "# Exploration\n",
    "* Simple Regression of Scalar Coupling & Atom Displacement."
   ]
  },
  {
   "cell_type": "code",
   "execution_count": 10,
   "metadata": {},
   "outputs": [],
   "source": [
    "def score_type( y_test, y_calc ):\n",
    "    y = list(zip(y_test, y_calc))\n",
    "    error = sum( [abs(i - j) for i, j in y] )\n",
    "    return np.log10( error / len(y) )\n",
    "\n",
    "def score_total(sum_score, num_type):\n",
    "    return sum_score / num_type\n",
    "\n",
    "def score(types_data):\n",
    "    \n",
    "    total_score = 0\n",
    "    for typ in types_data:\n",
    "        total_score += score_type(typ)\n",
    "    return total_score / len(types_data)"
   ]
  },
  {
   "cell_type": "markdown",
   "metadata": {},
   "source": [
    "### The different kinds of bonds present in the data"
   ]
  },
  {
   "cell_type": "code",
   "execution_count": 11,
   "metadata": {},
   "outputs": [
    {
     "name": "stdout",
     "output_type": "stream",
     "text": [
      "['1JHC' '2JHH' '1JHN' '2JHN' '2JHC' '3JHH' '3JHC' '3JHN']\n"
     ]
    }
   ],
   "source": [
    "bond_types = bond_df.type.unique()\n",
    "print(bond_types)"
   ]
  },
  {
   "cell_type": "markdown",
   "metadata": {},
   "source": [
    "#### Fetching and train/test splitting of data for regressions"
   ]
  },
  {
   "cell_type": "code",
   "execution_count": 12,
   "metadata": {},
   "outputs": [],
   "source": [
    "def get_displacement_coupling(df, bond_type):\n",
    "    df = df[ df.type == bond_type].sort_values(by=['displacement'])\n",
    "    # Split and return into x and y arrays\n",
    "    x = df['displacement'].values\n",
    "    y = df['scalar_coupling_constant'].values\n",
    "    return np.array([x,y])"
   ]
  },
  {
   "cell_type": "markdown",
   "metadata": {},
   "source": [
    "#### Plotting data points and models"
   ]
  },
  {
   "cell_type": "code",
   "execution_count": 66,
   "metadata": {},
   "outputs": [],
   "source": [
    "def plot_model( x_test, y_test, y_regs, title, x_bound=[None,None], y_bound=[None,None]):\n",
    "    \n",
    "    xmin = x_test.min() if x_bound[0] is None else x_bound[0]\n",
    "    xmax = x_test.max() if x_bound[1] is None else x_bound[1]\n",
    "    ymin = y_test.min() if y_bound[0] is None else y_bound[0]\n",
    "    ymax = y_test.max() if y_bound[1] is None else y_bound[1]\n",
    "    \n",
    "    plt.scatter(x_test,y_test)\n",
    "    \n",
    "    for y_reg in y_regs:\n",
    "        plt.plot(x_test, y_reg, linewidth=3, linestyle='solid')\n",
    "    \n",
    "#     plt.xlim([xmin * 0.99,xmax * 1.01])\n",
    "#     plt.ylim([ymin * 0.99,ymax* 1.01])\n",
    "    plt.title(title, size=22)\n",
    "    plt.xlabel('Displacement', size=22)\n",
    "    plt.ylabel('Scalar Coupling Constant', size=22)\n",
    "#     plt.show()"
   ]
  },
  {
   "cell_type": "markdown",
   "metadata": {},
   "source": [
    "# Linear Regression\n",
    "- [scikit Learn Linear Regression](https://scikit-learn.org/stable/modules/linear_model.html)"
   ]
  },
  {
   "cell_type": "code",
   "execution_count": 14,
   "metadata": {},
   "outputs": [],
   "source": [
    "def linear_regression(x_train, y_train, x_test):\n",
    "    # Train linear regression model\n",
    "    linear_reg = train_linear_regression(x_train, y_train)\n",
    "    \n",
    "    # Use linear regression to generate y value\n",
    "    return np.array(line_data_points(x_test,linear_reg.coef_, linear_reg.intercept_)).T[0]\n",
    "    \n",
    "def train_linear_regression(x,y):\n",
    "    # Linear Regression fit\n",
    "    reg = linear_model.LinearRegression()\n",
    "    reg.fit( x.reshape(-1,1), y )\n",
    "    return reg\n",
    "\n",
    "def line_data_points(x_array, coef, intercept):\n",
    "    return [line_func(x, coef, intercept) for x in x_array]\n",
    "\n",
    "def line_func(x, coef, intercept):\n",
    "    return x*coef + intercept"
   ]
  },
  {
   "cell_type": "markdown",
   "metadata": {},
   "source": [
    "# Random Forest Regression\n",
    "* [scikit Learn Random Forest Regression](https://scikit-learn.org/stable/modules/generated/sklearn.ensemble.RandomForestRegressor.html)"
   ]
  },
  {
   "cell_type": "code",
   "execution_count": 15,
   "metadata": {},
   "outputs": [],
   "source": [
    "def random_forest(x_train, y_train, x_test):\n",
    "    # Train Random Forest regression model\n",
    "    random_forest_reg = train_rand_forest(x_train, y_train)\n",
    "    \n",
    "    # Use Random Forest regression to generate y values\n",
    "    return random_forest_reg.predict(x_test.reshape(-1,1))\n",
    "\n",
    "def train_rand_forest(x, y):\n",
    "    # Train Random Forest\n",
    "    reg = RandomForestRegressor(max_depth=2, random_state=0)\n",
    "    reg.fit(x.reshape(-1,1), y)\n",
    "    return reg"
   ]
  },
  {
   "cell_type": "markdown",
   "metadata": {},
   "source": [
    "### Trains models for data"
   ]
  },
  {
   "cell_type": "code",
   "execution_count": 23,
   "metadata": {},
   "outputs": [],
   "source": [
    "def evaluate_models(plot=False):\n",
    "\n",
    "    title = \"Regression of Scalar-Coupling-Constant vs. Bond Displacement : \"\n",
    "    \n",
    "#     fig = plt.figure()\n",
    "#     ax = fig.add_subplot(10)\n",
    "    \n",
    "    sum_score = 0;\n",
    "    for bond_type in bond_types:\n",
    "\n",
    "        # Get x y test/train. Displacement and Bond strength\n",
    "        x, y = get_displacement_coupling(bond_df, bond_type )\n",
    "                \n",
    "        x_train, x_test, y_train, y_test = train_test_split(x, y, random_state=433)\n",
    "        x_test.sort() # Sort training values (mostly for plotting)\n",
    "\n",
    "        # Train and predict Linear regression\n",
    "        y_linear_regression = linear_regression(x_train, y_train, x_test)\n",
    "\n",
    "        # Train and predict Random Forest\n",
    "        y_random_forest_regression = random_forest(x_train, y_train, x_test)\n",
    "\n",
    "        # Calculate score for regression on type\n",
    "        linear_score = score_type( y_test, y_linear_regression) \n",
    "        forest_score = score_type( y_test, y_random_forest_regression) \n",
    "\n",
    "        # Print result\n",
    "        print(bond_type + ' has score :     Linear: ', round(linear_score, 5), '     Forest: ', round(forest_score,5 ))\n",
    "        \n",
    "        # Plot only if desired\n",
    "        if plot:\n",
    "            y_regs = [y_linear_regression, y_random_forest_regression]\n",
    "            plot_model(x_test, y_test, y_regs, title+bond_type,[x_train.min(),x_train.max()], [y_train.min(),y_train.max()])"
   ]
  },
  {
   "cell_type": "code",
   "execution_count": 67,
   "metadata": {
    "scrolled": false
   },
   "outputs": [
    {
     "name": "stdout",
     "output_type": "stream",
     "text": [
      "1JHC has score :     Linear:  1.1961      Forest:  1.18678\n",
      "2JHH has score :     Linear:  0.4919      Forest:  0.51331\n",
      "1JHN has score :     Linear:  1.06086      Forest:  1.07067\n",
      "2JHN has score :     Linear:  0.47403      Forest:  0.49034\n",
      "2JHC has score :     Linear:  0.46985      Forest:  0.48742\n",
      "3JHH has score :     Linear:  0.49747      Forest:  0.53898\n",
      "3JHC has score :     Linear:  0.41158      Forest:  0.42091\n",
      "3JHN has score :     Linear:  0.0032      Forest:  0.0161\n"
     ]
    },
    {
     "data": {
      "image/png": "[encoded data removed]",
      "text/plain": [
       "<Figure size 1152x648 with 1 Axes>"
      ]
     },
     "metadata": {},
     "output_type": "display_data"
    }
   ],
   "source": [
    "evaluate_models(True)"
   ]
  },
  {
   "cell_type": "markdown",
   "metadata": {},
   "source": [
    "# Clustering"
   ]
  },
  {
   "cell_type": "code",
   "execution_count": 25,
   "metadata": {},
   "outputs": [],
   "source": [
    "from sklearn.cluster import KMeans\n",
    "from sklearn import cluster\n",
    "\n",
    "bond_type = bond_types[0]\n",
    "x, y = get_displacement_coupling(bond_df, bond_type )\n",
    "x_train, x_test, y_train, y_test = train_test_split(x, y, random_state=433)\n",
    "x_test.sort() # Sort training values (mostly for plotting)\n",
    "\n",
    "X_train = np.array([list(a) for a in list(zip(x_train,y_train))])\n",
    "X_test = np.array([list(a) for a in list(zip(x_test,y_test))])"
   ]
  },
  {
   "cell_type": "code",
   "execution_count": 26,
   "metadata": {},
   "outputs": [],
   "source": [
    "num_clusters = 4;"
   ]
  },
  {
   "cell_type": "code",
   "execution_count": 27,
   "metadata": {},
   "outputs": [
    {
     "data": {
      "text/plain": [
       "array([[  1.09723684,  87.4991    ],\n",
       "       [  1.07826197, 126.792     ],\n",
       "       [  1.09410159,  84.396     ],\n",
       "       ...,\n",
       "       [  1.09389809,  82.6843    ],\n",
       "       [  1.09453296,  92.8103    ],\n",
       "       [  1.09681436,  88.9705    ]])"
      ]
     },
     "execution_count": 27,
     "metadata": {},
     "output_type": "execute_result"
    }
   ],
   "source": [
    "X_train"
   ]
  },
  {
   "cell_type": "markdown",
   "metadata": {},
   "source": [
    "### Spectral Clustering"
   ]
  },
  {
   "cell_type": "code",
   "execution_count": 28,
   "metadata": {},
   "outputs": [],
   "source": [
    "# spectral = cluster.SpectralClustering(\n",
    "#         n_clusters=num_clusters, eigen_solver='arpack',\n",
    "#         affinity=\"nearest_neighbors\")\n",
    "    \n",
    "# spectral.fit(X_train)\n",
    "# y_spectral = spectral.predict(X_test)"
   ]
  },
  {
   "cell_type": "markdown",
   "metadata": {},
   "source": [
    "### Agglomerative Clusrtering"
   ]
  },
  {
   "cell_type": "code",
   "execution_count": 31,
   "metadata": {},
   "outputs": [],
   "source": [
    "# ward = cluster.AgglomerativeClustering(\n",
    "#         n_clusters=num_clusters, linkage='ward')\n",
    "# ward.fit(X_train)\n",
    "# y_ward = ward.predict(X_test)"
   ]
  },
  {
   "cell_type": "markdown",
   "metadata": {},
   "source": [
    "### KMeans Clustering"
   ]
  },
  {
   "cell_type": "code",
   "execution_count": null,
   "metadata": {},
   "outputs": [],
   "source": [
    "est = KMeans(num_clusters)\n",
    "est.fit(X_train)\n",
    "y_kmeans = est.predict(X_test)\n"
   ]
  },
  {
   "cell_type": "code",
   "execution_count": null,
   "metadata": {},
   "outputs": [],
   "source": [
    "X_test"
   ]
  },
  {
   "cell_type": "code",
   "execution_count": null,
   "metadata": {},
   "outputs": [],
   "source": []
  },
  {
   "cell_type": "code",
   "execution_count": null,
   "metadata": {},
   "outputs": [],
   "source": [
    "plt.scatter(X_test[:, 0], X_test[:, 1], c=y_spectral, s=50, cmap='rainbow');"
   ]
  },
  {
   "cell_type": "code",
   "execution_count": null,
   "metadata": {},
   "outputs": [],
   "source": [
    "from sklearn.datasets.samples_generator import make_blobs\n",
    "XX, yy = make_blobs(n_samples=300, centers=4,\n",
    "                  random_state=0, cluster_std=0.60)\n",
    "# plt.scatter(XX[:, 0], XX[:, 1], s=50);"
   ]
  },
  {
   "cell_type": "code",
   "execution_count": null,
   "metadata": {},
   "outputs": [],
   "source": [
    "XX;"
   ]
  },
  {
   "cell_type": "code",
   "execution_count": null,
   "metadata": {},
   "outputs": [],
   "source": [
    "est = KMeans(4)  # 4 clusters\n",
    "est.fit(XX)\n",
    "y_kmeans = est.predict(XX)\n",
    "# plt.scatter(XX[:, 0], XX[:, 1], c=y_kmeans, s=50, cmap='rainbow');"
   ]
  },
  {
   "cell_type": "markdown",
   "metadata": {},
   "source": [
    "<br/>\n",
    "<br/>\n",
    "<br/>\n",
    "<br/>\n",
    "<br/>\n",
    "<br/>\n",
    "<br/>\n",
    "<br/>\n",
    "<br/>\n",
    "<br/>\n",
    "<br/>\n",
    "<br/>\n",
    "<br/>\n",
    "<br/>\n",
    "<br/>\n",
    "<br/>\n",
    "<br/>\n",
    "<br/>\n",
    "<br/>\n",
    "<br/>\n",
    "<br/>\n",
    "<br/>\n",
    "<br/>\n",
    "<br/>\n",
    "<br/>\n",
    "<br/>\n",
    "<br/>\n",
    "<br/>\n",
    "<br/>\n",
    "<br/>\n",
    "\n",
    "<small><small><small>This holds space so I can scroll further</small></small></small>"
   ]
  },
  {
   "cell_type": "markdown",
   "metadata": {},
   "source": [
    "# XGBoost"
   ]
  },
  {
   "cell_type": "code",
   "execution_count": 32,
   "metadata": {},
   "outputs": [
    {
     "data": {
      "text/plain": [
       "<matplotlib.collections.PathCollection at 0x1e493932308>"
      ]
     },
     "execution_count": 32,
     "metadata": {},
     "output_type": "execute_result"
    },
    {
     "data": {
      "image/png": "[encoded data removed]",
      "text/plain": [
       "<Figure size 1152x648 with 1 Axes>"
      ]
     },
     "metadata": {},
     "output_type": "display_data"
    }
   ],
   "source": [
    "plt.scatter(bond_df['displacement'].values,bond_df['scalar_coupling_constant'].values)"
   ]
  },
  {
   "cell_type": "code",
   "execution_count": 37,
   "metadata": {},
   "outputs": [],
   "source": [
    "bond_type = bond_types[0]\n",
    "x, y = get_displacement_coupling(bond_df, bond_type )\n",
    "x_train, x_test, y_train, y_test = train_test_split(x, y, random_state=433)\n",
    "x_test.sort() # Sort training values (mostly for plotting)\n",
    "\n",
    "X_train = np.array([list(a) for a in list(zip(x_train,y_train))])\n",
    "X_test = np.array([list(a) for a in list(zip(x_test,y_test))])"
   ]
  },
  {
   "cell_type": "code",
   "execution_count": 50,
   "metadata": {},
   "outputs": [
    {
     "data": {
      "text/plain": [
       "<xgboost.core.DMatrix at 0x1e4c0f4dc88>"
      ]
     },
     "execution_count": 50,
     "metadata": {},
     "output_type": "execute_result"
    }
   ],
   "source": []
  },
  {
   "cell_type": "code",
   "execution_count": 51,
   "metadata": {},
   "outputs": [],
   "source": [
    "import xgboost as xgb\n",
    "# read in data\n",
    "dtrain = xgb.DMatrix(X_train, label=[1]*531849 )\n",
    "dtest = xgb.DMatrix(X_test)\n",
    "# specify parameters via map\n",
    "param = {}\n",
    "num_round = 2\n",
    "bst = xgb.train(param, dtrain)\n",
    "# make prediction\n",
    "preds = bst.predict(dtest)"
   ]
  },
  {
   "cell_type": "code",
   "execution_count": 63,
   "metadata": {},
   "outputs": [
    {
     "data": {
      "text/plain": [
       "177284"
      ]
     },
     "execution_count": 63,
     "metadata": {},
     "output_type": "execute_result"
    }
   ],
   "source": [
    "preds.size"
   ]
  },
  {
   "cell_type": "code",
   "execution_count": 53,
   "metadata": {},
   "outputs": [
    {
     "ename": "ValueError",
     "evalue": "x and y must be the same size",
     "output_type": "error",
     "traceback": [
      "\u001b[1;31m---------------------------------------------------------------------------\u001b[0m",
      "\u001b[1;31mValueError\u001b[0m                                Traceback (most recent call last)",
      "\u001b[1;32m<ipython-input-53-764541121975>\u001b[0m in \u001b[0;36m<module>\u001b[1;34m\u001b[0m\n\u001b[1;32m----> 1\u001b[1;33m \u001b[0mplt\u001b[0m\u001b[1;33m.\u001b[0m\u001b[0mscatter\u001b[0m\u001b[1;33m(\u001b[0m\u001b[0mdtest\u001b[0m\u001b[1;33m,\u001b[0m \u001b[0mpreds\u001b[0m\u001b[1;33m)\u001b[0m\u001b[1;33m\u001b[0m\u001b[1;33m\u001b[0m\u001b[0m\n\u001b[0m",
      "\u001b[1;32mc:\\users\\root\\appdata\\local\\programs\\python\\python37\\lib\\site-packages\\matplotlib\\pyplot.py\u001b[0m in \u001b[0;36mscatter\u001b[1;34m(x, y, s, c, marker, cmap, norm, vmin, vmax, alpha, linewidths, verts, edgecolors, plotnonfinite, data, **kwargs)\u001b[0m\n\u001b[0;32m   2839\u001b[0m         \u001b[0mverts\u001b[0m\u001b[1;33m=\u001b[0m\u001b[0mverts\u001b[0m\u001b[1;33m,\u001b[0m \u001b[0medgecolors\u001b[0m\u001b[1;33m=\u001b[0m\u001b[0medgecolors\u001b[0m\u001b[1;33m,\u001b[0m\u001b[1;33m\u001b[0m\u001b[1;33m\u001b[0m\u001b[0m\n\u001b[0;32m   2840\u001b[0m         plotnonfinite=plotnonfinite, **({\"data\": data} if data is not\n\u001b[1;32m-> 2841\u001b[1;33m         None else {}), **kwargs)\n\u001b[0m\u001b[0;32m   2842\u001b[0m     \u001b[0msci\u001b[0m\u001b[1;33m(\u001b[0m\u001b[0m__ret\u001b[0m\u001b[1;33m)\u001b[0m\u001b[1;33m\u001b[0m\u001b[1;33m\u001b[0m\u001b[0m\n\u001b[0;32m   2843\u001b[0m     \u001b[1;32mreturn\u001b[0m \u001b[0m__ret\u001b[0m\u001b[1;33m\u001b[0m\u001b[1;33m\u001b[0m\u001b[0m\n",
      "\u001b[1;32mc:\\users\\root\\appdata\\local\\programs\\python\\python37\\lib\\site-packages\\matplotlib\\__init__.py\u001b[0m in \u001b[0;36minner\u001b[1;34m(ax, data, *args, **kwargs)\u001b[0m\n\u001b[0;32m   1597\u001b[0m     \u001b[1;32mdef\u001b[0m \u001b[0minner\u001b[0m\u001b[1;33m(\u001b[0m\u001b[0max\u001b[0m\u001b[1;33m,\u001b[0m \u001b[1;33m*\u001b[0m\u001b[0margs\u001b[0m\u001b[1;33m,\u001b[0m \u001b[0mdata\u001b[0m\u001b[1;33m=\u001b[0m\u001b[1;32mNone\u001b[0m\u001b[1;33m,\u001b[0m \u001b[1;33m**\u001b[0m\u001b[0mkwargs\u001b[0m\u001b[1;33m)\u001b[0m\u001b[1;33m:\u001b[0m\u001b[1;33m\u001b[0m\u001b[1;33m\u001b[0m\u001b[0m\n\u001b[0;32m   1598\u001b[0m         \u001b[1;32mif\u001b[0m \u001b[0mdata\u001b[0m \u001b[1;32mis\u001b[0m \u001b[1;32mNone\u001b[0m\u001b[1;33m:\u001b[0m\u001b[1;33m\u001b[0m\u001b[1;33m\u001b[0m\u001b[0m\n\u001b[1;32m-> 1599\u001b[1;33m             \u001b[1;32mreturn\u001b[0m \u001b[0mfunc\u001b[0m\u001b[1;33m(\u001b[0m\u001b[0max\u001b[0m\u001b[1;33m,\u001b[0m \u001b[1;33m*\u001b[0m\u001b[0mmap\u001b[0m\u001b[1;33m(\u001b[0m\u001b[0msanitize_sequence\u001b[0m\u001b[1;33m,\u001b[0m \u001b[0margs\u001b[0m\u001b[1;33m)\u001b[0m\u001b[1;33m,\u001b[0m \u001b[1;33m**\u001b[0m\u001b[0mkwargs\u001b[0m\u001b[1;33m)\u001b[0m\u001b[1;33m\u001b[0m\u001b[1;33m\u001b[0m\u001b[0m\n\u001b[0m\u001b[0;32m   1600\u001b[0m \u001b[1;33m\u001b[0m\u001b[0m\n\u001b[0;32m   1601\u001b[0m         \u001b[0mbound\u001b[0m \u001b[1;33m=\u001b[0m \u001b[0mnew_sig\u001b[0m\u001b[1;33m.\u001b[0m\u001b[0mbind\u001b[0m\u001b[1;33m(\u001b[0m\u001b[0max\u001b[0m\u001b[1;33m,\u001b[0m \u001b[1;33m*\u001b[0m\u001b[0margs\u001b[0m\u001b[1;33m,\u001b[0m \u001b[1;33m**\u001b[0m\u001b[0mkwargs\u001b[0m\u001b[1;33m)\u001b[0m\u001b[1;33m\u001b[0m\u001b[1;33m\u001b[0m\u001b[0m\n",
      "\u001b[1;32mc:\\users\\root\\appdata\\local\\programs\\python\\python37\\lib\\site-packages\\matplotlib\\axes\\_axes.py\u001b[0m in \u001b[0;36mscatter\u001b[1;34m(self, x, y, s, c, marker, cmap, norm, vmin, vmax, alpha, linewidths, verts, edgecolors, plotnonfinite, **kwargs)\u001b[0m\n\u001b[0;32m   4441\u001b[0m         \u001b[0my\u001b[0m \u001b[1;33m=\u001b[0m \u001b[0mnp\u001b[0m\u001b[1;33m.\u001b[0m\u001b[0mma\u001b[0m\u001b[1;33m.\u001b[0m\u001b[0mravel\u001b[0m\u001b[1;33m(\u001b[0m\u001b[0my\u001b[0m\u001b[1;33m)\u001b[0m\u001b[1;33m\u001b[0m\u001b[1;33m\u001b[0m\u001b[0m\n\u001b[0;32m   4442\u001b[0m         \u001b[1;32mif\u001b[0m \u001b[0mx\u001b[0m\u001b[1;33m.\u001b[0m\u001b[0msize\u001b[0m \u001b[1;33m!=\u001b[0m \u001b[0my\u001b[0m\u001b[1;33m.\u001b[0m\u001b[0msize\u001b[0m\u001b[1;33m:\u001b[0m\u001b[1;33m\u001b[0m\u001b[1;33m\u001b[0m\u001b[0m\n\u001b[1;32m-> 4443\u001b[1;33m             \u001b[1;32mraise\u001b[0m \u001b[0mValueError\u001b[0m\u001b[1;33m(\u001b[0m\u001b[1;34m\"x and y must be the same size\"\u001b[0m\u001b[1;33m)\u001b[0m\u001b[1;33m\u001b[0m\u001b[1;33m\u001b[0m\u001b[0m\n\u001b[0m\u001b[0;32m   4444\u001b[0m \u001b[1;33m\u001b[0m\u001b[0m\n\u001b[0;32m   4445\u001b[0m         \u001b[1;32mif\u001b[0m \u001b[0ms\u001b[0m \u001b[1;32mis\u001b[0m \u001b[1;32mNone\u001b[0m\u001b[1;33m:\u001b[0m\u001b[1;33m\u001b[0m\u001b[1;33m\u001b[0m\u001b[0m\n",
      "\u001b[1;31mValueError\u001b[0m: x and y must be the same size"
     ]
    },
    {
     "data": {
      "image/png": "[encoded data removed]",
      "text/plain": [
       "<Figure size 1152x648 with 1 Axes>"
      ]
     },
     "metadata": {},
     "output_type": "display_data"
    }
   ],
   "source": [
    "plt.scatter(dtest, preds)"
   ]
  },
  {
   "cell_type": "code",
   "execution_count": null,
   "metadata": {},
   "outputs": [],
   "source": []
  }
 ],
 "metadata": {
  "kernelspec": {
   "display_name": "Python 3",
   "language": "python",
   "name": "python3"
  },
  "language_info": {
   "codemirror_mode": {
    "name": "ipython",
    "version": 3
   },
   "file_extension": ".py",
   "mimetype": "text/x-python",
   "name": "python",
   "nbconvert_exporter": "python",
   "pygments_lexer": "ipython3",
   "version": "3.7.5"
  }
 },
 "nbformat": 4,
 "nbformat_minor": 2
}
